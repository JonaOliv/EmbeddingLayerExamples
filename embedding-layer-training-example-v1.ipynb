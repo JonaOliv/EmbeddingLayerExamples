{
 "cells": [
  {
   "cell_type": "markdown",
   "metadata": {},
   "source": [
    "# Embedding Layer Training Example v1"
   ]
  },
  {
   "cell_type": "markdown",
   "metadata": {},
   "source": [
    "## Loading Data"
   ]
  },
  {
   "cell_type": "code",
   "execution_count": 1,
   "metadata": {
    "execution": {
     "iopub.execute_input": "2022-09-23T07:03:51.178116Z",
     "iopub.status.busy": "2022-09-23T07:03:51.177625Z",
     "iopub.status.idle": "2022-09-23T07:03:51.185655Z",
     "shell.execute_reply": "2022-09-23T07:03:51.183932Z",
     "shell.execute_reply.started": "2022-09-23T07:03:51.178079Z"
    }
   },
   "outputs": [],
   "source": [
    "import numpy as np\n",
    "import pandas as pd "
   ]
  },
  {
   "cell_type": "code",
   "execution_count": 2,
   "metadata": {
    "execution": {
     "iopub.execute_input": "2022-09-23T07:03:51.228904Z",
     "iopub.status.busy": "2022-09-23T07:03:51.227755Z",
     "iopub.status.idle": "2022-09-23T07:03:51.262650Z",
     "shell.execute_reply": "2022-09-23T07:03:51.261725Z",
     "shell.execute_reply.started": "2022-09-23T07:03:51.228854Z"
    }
   },
   "outputs": [
    {
     "name": "stdout",
     "output_type": "stream",
     "text": [
      "Spells 554\n"
     ]
    },
    {
     "data": {
      "text/html": [
       "<div>\n",
       "<style scoped>\n",
       "    .dataframe tbody tr th:only-of-type {\n",
       "        vertical-align: middle;\n",
       "    }\n",
       "\n",
       "    .dataframe tbody tr th {\n",
       "        vertical-align: top;\n",
       "    }\n",
       "\n",
       "    .dataframe thead th {\n",
       "        text-align: right;\n",
       "    }\n",
       "</style>\n",
       "<table border=\"1\" class=\"dataframe\">\n",
       "  <thead>\n",
       "    <tr style=\"text-align: right;\">\n",
       "      <th></th>\n",
       "      <th>name</th>\n",
       "      <th>classes</th>\n",
       "      <th>level</th>\n",
       "      <th>school</th>\n",
       "      <th>cast_time</th>\n",
       "      <th>range</th>\n",
       "      <th>duration</th>\n",
       "      <th>verbal</th>\n",
       "      <th>somatic</th>\n",
       "      <th>material</th>\n",
       "      <th>material_cost</th>\n",
       "      <th>description</th>\n",
       "    </tr>\n",
       "  </thead>\n",
       "  <tbody>\n",
       "    <tr>\n",
       "      <th>0</th>\n",
       "      <td>Acid Splash</td>\n",
       "      <td>Artificer, Sorcerer, Wizard</td>\n",
       "      <td>0</td>\n",
       "      <td>Conjuration</td>\n",
       "      <td>1 Action</td>\n",
       "      <td>60 Feet</td>\n",
       "      <td>Instantaneous</td>\n",
       "      <td>1</td>\n",
       "      <td>1</td>\n",
       "      <td>0</td>\n",
       "      <td>NaN</td>\n",
       "      <td>You hurl a bubble of acid. Choose one creature...</td>\n",
       "    </tr>\n",
       "    <tr>\n",
       "      <th>1</th>\n",
       "      <td>Blade Ward</td>\n",
       "      <td>Bard, Sorcerer, Warlock, Wizard</td>\n",
       "      <td>0</td>\n",
       "      <td>Abjuration</td>\n",
       "      <td>1 Action</td>\n",
       "      <td>Self</td>\n",
       "      <td>1 round</td>\n",
       "      <td>1</td>\n",
       "      <td>1</td>\n",
       "      <td>0</td>\n",
       "      <td>NaN</td>\n",
       "      <td>You extend your hand and trace a sigil of ward...</td>\n",
       "    </tr>\n",
       "    <tr>\n",
       "      <th>2</th>\n",
       "      <td>Booming Blade</td>\n",
       "      <td>Artificer, Sorcerer, Warlock, Wizard</td>\n",
       "      <td>0</td>\n",
       "      <td>Evocation</td>\n",
       "      <td>1 Action</td>\n",
       "      <td>Self (5-foot radius)</td>\n",
       "      <td>1 round</td>\n",
       "      <td>0</td>\n",
       "      <td>1</td>\n",
       "      <td>1</td>\n",
       "      <td>a melee weapon worth at least 1 sp</td>\n",
       "      <td>You brandish the weapon used in the spell’s ca...</td>\n",
       "    </tr>\n",
       "    <tr>\n",
       "      <th>3</th>\n",
       "      <td>Chill Touch</td>\n",
       "      <td>Sorcerer, Warlock, Wizard</td>\n",
       "      <td>0</td>\n",
       "      <td>Necromancy</td>\n",
       "      <td>1 Action</td>\n",
       "      <td>120 Feet</td>\n",
       "      <td>1 round</td>\n",
       "      <td>1</td>\n",
       "      <td>1</td>\n",
       "      <td>0</td>\n",
       "      <td>NaN</td>\n",
       "      <td>You create a ghostly, skeletal hand in the spa...</td>\n",
       "    </tr>\n",
       "    <tr>\n",
       "      <th>4</th>\n",
       "      <td>Control Flames</td>\n",
       "      <td>Druid, Sorcerer, Wizard</td>\n",
       "      <td>0</td>\n",
       "      <td>Transmutation</td>\n",
       "      <td>1 Action</td>\n",
       "      <td>60 Feet</td>\n",
       "      <td>Instantaneous or 1 hour</td>\n",
       "      <td>0</td>\n",
       "      <td>1</td>\n",
       "      <td>0</td>\n",
       "      <td>NaN</td>\n",
       "      <td>You choose nonmagical flame that you can see w...</td>\n",
       "    </tr>\n",
       "  </tbody>\n",
       "</table>\n",
       "</div>"
      ],
      "text/plain": [
       "             name                               classes  level         school  \\\n",
       "0     Acid Splash           Artificer, Sorcerer, Wizard      0    Conjuration   \n",
       "1      Blade Ward       Bard, Sorcerer, Warlock, Wizard      0     Abjuration   \n",
       "2   Booming Blade  Artificer, Sorcerer, Warlock, Wizard      0      Evocation   \n",
       "3     Chill Touch             Sorcerer, Warlock, Wizard      0     Necromancy   \n",
       "4  Control Flames               Druid, Sorcerer, Wizard      0  Transmutation   \n",
       "\n",
       "  cast_time                 range                 duration  verbal  somatic  \\\n",
       "0  1 Action               60 Feet            Instantaneous       1        1   \n",
       "1  1 Action                  Self                  1 round       1        1   \n",
       "2  1 Action  Self (5-foot radius)                  1 round       0        1   \n",
       "3  1 Action              120 Feet                  1 round       1        1   \n",
       "4  1 Action               60 Feet  Instantaneous or 1 hour       0        1   \n",
       "\n",
       "   material                       material_cost  \\\n",
       "0         0                                 NaN   \n",
       "1         0                                 NaN   \n",
       "2         1  a melee weapon worth at least 1 sp   \n",
       "3         0                                 NaN   \n",
       "4         0                                 NaN   \n",
       "\n",
       "                                         description  \n",
       "0  You hurl a bubble of acid. Choose one creature...  \n",
       "1  You extend your hand and trace a sigil of ward...  \n",
       "2  You brandish the weapon used in the spell’s ca...  \n",
       "3  You create a ghostly, skeletal hand in the spa...  \n",
       "4  You choose nonmagical flame that you can see w...  "
      ]
     },
     "execution_count": 2,
     "metadata": {},
     "output_type": "execute_result"
    }
   ],
   "source": [
    "#df_spells = pd.read_csv(\"/kaggle/input/dndspells/dnd-spells.csv\")\n",
    "df_spells = pd.read_csv(\"dataset/dnd-spells.csv\")\n",
    "print(\"Spells \" + str(len(df_spells)))\n",
    "df_spells[:5]"
   ]
  },
  {
   "cell_type": "markdown",
   "metadata": {},
   "source": [
    "## Data Exploration"
   ]
  },
  {
   "cell_type": "markdown",
   "metadata": {},
   "source": [
    "### Maximun number of token by row"
   ]
  },
  {
   "cell_type": "code",
   "execution_count": 4,
   "metadata": {},
   "outputs": [
    {
     "name": "stdout",
     "output_type": "stream",
     "text": [
      "Collecting spacy"
     ]
    },
    {
     "name": "stderr",
     "output_type": "stream",
     "text": [
      "WARNING: Retrying (Retry(total=4, connect=None, read=None, redirect=None, status=None)) after connection broken by 'SSLError(SSLCertVerificationError(1, '[SSL: CERTIFICATE_VERIFY_FAILED] certificate verify failed: self signed certificate in certificate chain (_ssl.c:1129)'))': /simple/spacy/\n",
      "WARNING: Retrying (Retry(total=3, connect=None, read=None, redirect=None, status=None)) after connection broken by 'SSLError(SSLCertVerificationError(1, '[SSL: CERTIFICATE_VERIFY_FAILED] certificate verify failed: self signed certificate in certificate chain (_ssl.c:1129)'))': /simple/spacy/\n",
      "WARNING: Retrying (Retry(total=2, connect=None, read=None, redirect=None, status=None)) after connection broken by 'SSLError(SSLCertVerificationError(1, '[SSL: CERTIFICATE_VERIFY_FAILED] certificate verify failed: self signed certificate in certificate chain (_ssl.c:1129)'))': /simple/spacy/\n",
      "WARNING: Retrying (Retry(total=1, connect=None, read=None, redirect=None, status=None)) after connection broken by 'SSLError(SSLCertVerificationError(1, '[SSL: CERTIFICATE_VERIFY_FAILED] certificate verify failed: self signed certificate in certificate chain (_ssl.c:1129)'))': /simple/spacy/\n",
      "WARNING: Retrying (Retry(total=0, connect=None, read=None, redirect=None, status=None)) after connection broken by 'SSLError(SSLCertVerificationError(1, '[SSL: CERTIFICATE_VERIFY_FAILED] certificate verify failed: self signed certificate in certificate chain (_ssl.c:1129)'))': /simple/spacy/\n",
      "  WARNING: Retrying (Retry(total=4, connect=None, read=None, redirect=None, status=None)) after connection broken by 'SSLError(SSLCertVerificationError(1, '[SSL: CERTIFICATE_VERIFY_FAILED] certificate verify failed: self signed certificate in certificate chain (_ssl.c:1129)'))': /packages/23/1c/9f44f3258abd158cd45cf856242923629430d27651ddea9b8b53cdcc02d7/spacy-3.4.1-cp39-cp39-win_amd64.whl\n",
      "  WARNING: Retrying (Retry(total=3, connect=None, read=None, redirect=None, status=None)) after connection broken by 'SSLError(SSLCertVerificationError(1, '[SSL: CERTIFICATE_VERIFY_FAILED] certificate verify failed: self signed certificate in certificate chain (_ssl.c:1129)'))': /packages/23/1c/9f44f3258abd158cd45cf856242923629430d27651ddea9b8b53cdcc02d7/spacy-3.4.1-cp39-cp39-win_amd64.whl\n",
      "  WARNING: Retrying (Retry(total=2, connect=None, read=None, redirect=None, status=None)) after connection broken by 'SSLError(SSLCertVerificationError(1, '[SSL: CERTIFICATE_VERIFY_FAILED] certificate verify failed: self signed certificate in certificate chain (_ssl.c:1129)'))': /packages/23/1c/9f44f3258abd158cd45cf856242923629430d27651ddea9b8b53cdcc02d7/spacy-3.4.1-cp39-cp39-win_amd64.whl\n",
      "  WARNING: Retrying (Retry(total=1, connect=None, read=None, redirect=None, status=None)) after connection broken by 'SSLError(SSLCertVerificationError(1, '[SSL: CERTIFICATE_VERIFY_FAILED] certificate verify failed: self signed certificate in certificate chain (_ssl.c:1129)'))': /packages/23/1c/9f44f3258abd158cd45cf856242923629430d27651ddea9b8b53cdcc02d7/spacy-3.4.1-cp39-cp39-win_amd64.whl\n",
      "  WARNING: Retrying (Retry(total=0, connect=None, read=None, redirect=None, status=None)) after connection broken by 'SSLError(SSLCertVerificationError(1, '[SSL: CERTIFICATE_VERIFY_FAILED] certificate verify failed: self signed certificate in certificate chain (_ssl.c:1129)'))': /packages/23/1c/9f44f3258abd158cd45cf856242923629430d27651ddea9b8b53cdcc02d7/spacy-3.4.1-cp39-cp39-win_amd64.whl\n",
      "ERROR: Could not install packages due to an OSError: HTTPSConnectionPool(host='files.pythonhosted.org', port=443): Max retries exceeded with url: /packages/23/1c/9f44f3258abd158cd45cf856242923629430d27651ddea9b8b53cdcc02d7/spacy-3.4.1-cp39-cp39-win_amd64.whl (Caused by SSLError(SSLCertVerificationError(1, '[SSL: CERTIFICATE_VERIFY_FAILED] certificate verify failed: self signed certificate in certificate chain (_ssl.c:1129)')))\n"
     ]
    },
    {
     "name": "stdout",
     "output_type": "stream",
     "text": [
      "\n"
     ]
    },
    {
     "name": "stderr",
     "output_type": "stream",
     "text": [
      "\n"
     ]
    }
   ],
   "source": [
    "!pip install spacy"
   ]
  },
  {
   "cell_type": "code",
   "execution_count": 5,
   "metadata": {},
   "outputs": [
    {
     "ename": "ModuleNotFoundError",
     "evalue": "No module named 'spacy'",
     "output_type": "error",
     "traceback": [
      "\u001b[1;31m---------------------------------------------------------------------------\u001b[0m",
      "\u001b[1;31mModuleNotFoundError\u001b[0m                       Traceback (most recent call last)",
      "Input \u001b[1;32mIn [5]\u001b[0m, in \u001b[0;36m<cell line: 1>\u001b[1;34m()\u001b[0m\n\u001b[1;32m----> 1\u001b[0m \u001b[38;5;28;01mimport\u001b[39;00m \u001b[38;5;21;01mspacy\u001b[39;00m\n\u001b[0;32m      2\u001b[0m npl \u001b[38;5;241m=\u001b[39m spacy\u001b[38;5;241m.\u001b[39mload(\u001b[38;5;124m'\u001b[39m\u001b[38;5;124men_core_web_sm\u001b[39m\u001b[38;5;124m'\u001b[39m)\n\u001b[0;32m      4\u001b[0m \u001b[38;5;28;01mdef\u001b[39;00m \u001b[38;5;21mcount_words\u001b[39m(x):\n",
      "\u001b[1;31mModuleNotFoundError\u001b[0m: No module named 'spacy'"
     ]
    }
   ],
   "source": [
    "import spacy\n",
    "npl = spacy.load('en_core_web_sm')\n",
    "\n",
    "def count_words(x):\n",
    "    y = npl(x)\n",
    "    return len(y)\n",
    "\n",
    "df_spells[\"count_tokens\"] = df_spells.apply(lambda x: count_words(x['description']),axis=1)\n",
    "df_spells[\"count_tokens\"][:5]"
   ]
  },
  {
   "cell_type": "code",
   "execution_count": null,
   "metadata": {},
   "outputs": [],
   "source": [
    "df_spells.describe()"
   ]
  },
  {
   "cell_type": "markdown",
   "metadata": {},
   "source": [
    "### Number of words for the vocabulary"
   ]
  },
  {
   "cell_type": "code",
   "execution_count": null,
   "metadata": {},
   "outputs": [],
   "source": [
    "import tensorflow as tf\n",
    "\n",
    "text_vectorization_layer = tf.keras.layers.TextVectorization(\n",
    " standardize=\"lower_and_strip_punctuation\",\n",
    " output_mode='int',\n",
    "output_sequence_length=800)"
   ]
  },
  {
   "cell_type": "code",
   "execution_count": null,
   "metadata": {},
   "outputs": [],
   "source": [
    "text_vectorization_layer.adapt(df_spells['description'])"
   ]
  },
  {
   "cell_type": "code",
   "execution_count": null,
   "metadata": {},
   "outputs": [],
   "source": [
    "print(\"We have \" + str(len(text_vectorization_layer.get_vocabulary())) + \" terms as vocabulary\")"
   ]
  },
  {
   "cell_type": "markdown",
   "metadata": {},
   "source": [
    "## Creating input X\n",
    "I one_hot encode the values in the description column. Giving an integer number for each word (token). Finally, the empty space caused by the imbalanced number of tokens between rows of the column is filled with zeros."
   ]
  },
  {
   "cell_type": "code",
   "execution_count": null,
   "metadata": {
    "execution": {
     "iopub.execute_input": "2022-09-23T07:03:51.265255Z",
     "iopub.status.busy": "2022-09-23T07:03:51.264599Z",
     "iopub.status.idle": "2022-09-23T07:03:51.270315Z",
     "shell.execute_reply": "2022-09-23T07:03:51.269027Z",
     "shell.execute_reply.started": "2022-09-23T07:03:51.265216Z"
    }
   },
   "outputs": [],
   "source": [
    "from tensorflow.keras.preprocessing.text import one_hot\n",
    "from tensorflow.keras.preprocessing.sequence import pad_sequences"
   ]
  },
  {
   "cell_type": "code",
   "execution_count": null,
   "metadata": {
    "execution": {
     "iopub.execute_input": "2022-09-23T07:03:51.272336Z",
     "iopub.status.busy": "2022-09-23T07:03:51.271891Z",
     "iopub.status.idle": "2022-09-23T07:03:51.373471Z",
     "shell.execute_reply": "2022-09-23T07:03:51.372289Z",
     "shell.execute_reply.started": "2022-09-23T07:03:51.272298Z"
    }
   },
   "outputs": [],
   "source": [
    "vocabulary_size = 4504\n",
    "df_descrip = df_spells['description']\n",
    "input_x = [one_hot(d,vocabulary_size) for d in df_descrip]\n",
    "max_length = 800\n",
    "input_x = pad_sequences(input_x,maxlen=max_length,padding='post')\n",
    "input_x[:2]"
   ]
  },
  {
   "cell_type": "markdown",
   "metadata": {},
   "source": [
    "## Creating input Y\n",
    "The label (school column) is categorized in a form the model can understand. Furthermore, to avoid problems by imbalanced big values between schools, it was used 'tf.keras.utils.to_categorical' to balance it."
   ]
  },
  {
   "cell_type": "code",
   "execution_count": null,
   "metadata": {
    "execution": {
     "iopub.execute_input": "2022-09-23T07:03:51.376455Z",
     "iopub.status.busy": "2022-09-23T07:03:51.376098Z",
     "iopub.status.idle": "2022-09-23T07:03:51.386342Z",
     "shell.execute_reply": "2022-09-23T07:03:51.385067Z",
     "shell.execute_reply.started": "2022-09-23T07:03:51.376422Z"
    }
   },
   "outputs": [],
   "source": [
    "from sklearn.preprocessing import LabelEncoder\n",
    "import tensorflow as tf\n",
    "\n",
    "label_encoder = LabelEncoder()\n",
    "label_encoder.fit(df_spells['school'])\n",
    "print('Labels: ', label_encoder.classes_)\n",
    "\n",
    "def label_encode(labels,encoder):\n",
    "    encoding = encoder.transform(labels)\n",
    "    return tf.keras.utils.to_categorical(encoding,len(encoder.classes_))\n",
    "\n",
    "\n",
    "def label_decode(labels,decoder):\n",
    "    decoding = np.argmax(labels, axis=1)\n",
    "    return decoder.inverse_transform(decoding)"
   ]
  },
  {
   "cell_type": "code",
   "execution_count": null,
   "metadata": {
    "execution": {
     "iopub.execute_input": "2022-09-23T07:03:51.388189Z",
     "iopub.status.busy": "2022-09-23T07:03:51.387725Z",
     "iopub.status.idle": "2022-09-23T07:03:51.407844Z",
     "shell.execute_reply": "2022-09-23T07:03:51.406513Z",
     "shell.execute_reply.started": "2022-09-23T07:03:51.388138Z"
    }
   },
   "outputs": [],
   "source": [
    "input_y = label_encode(df_spells['school'],label_encoder)\n",
    "input_y[:5]"
   ]
  },
  {
   "cell_type": "markdown",
   "metadata": {},
   "source": [
    "## Modeling"
   ]
  },
  {
   "cell_type": "code",
   "execution_count": null,
   "metadata": {
    "execution": {
     "iopub.execute_input": "2022-09-23T07:03:51.409599Z",
     "iopub.status.busy": "2022-09-23T07:03:51.409203Z",
     "iopub.status.idle": "2022-09-23T07:03:51.422317Z",
     "shell.execute_reply": "2022-09-23T07:03:51.420965Z",
     "shell.execute_reply.started": "2022-09-23T07:03:51.409561Z"
    }
   },
   "outputs": [],
   "source": [
    "from tensorflow.keras.models import Sequential\n",
    "from tensorflow.keras.layers import Flatten,Embedding,Dense"
   ]
  },
  {
   "cell_type": "markdown",
   "metadata": {},
   "source": [
    "#### Important:\n",
    "They are 4504 words as vocabulary. And the number max of words in a description is 800."
   ]
  },
  {
   "cell_type": "code",
   "execution_count": null,
   "metadata": {
    "execution": {
     "iopub.execute_input": "2022-09-23T07:03:51.425365Z",
     "iopub.status.busy": "2022-09-23T07:03:51.424139Z",
     "iopub.status.idle": "2022-09-23T07:03:51.619362Z",
     "shell.execute_reply": "2022-09-23T07:03:51.618141Z",
     "shell.execute_reply.started": "2022-09-23T07:03:51.425315Z"
    }
   },
   "outputs": [],
   "source": [
    "regularizer = tf.keras.regularizers.l1_l2(0, 0.001)\n",
    "\n",
    "model = Sequential()\n",
    "embedding_layer = Embedding(input_dim=4504,output_dim=64,input_length=800)\n",
    "model.add(embedding_layer)\n",
    "model.add(Flatten())\n",
    "model.add(Dense(640,kernel_regularizer=regularizer,activation='relu'))\n",
    "model.add(Dense(64,kernel_regularizer=regularizer,activation='relu'))\n",
    "model.add(Dense(64,kernel_regularizer=regularizer,activation='relu'))\n",
    "model.add(Dense(8,activation='softmax'))\n",
    "model.compile(optimizer='adam',loss='categorical_crossentropy',metrics=['accuracy'])\n",
    "print(model.summary())"
   ]
  },
  {
   "cell_type": "code",
   "execution_count": null,
   "metadata": {
    "execution": {
     "iopub.execute_input": "2022-09-23T07:03:51.622777Z",
     "iopub.status.busy": "2022-09-23T07:03:51.622248Z",
     "iopub.status.idle": "2022-09-23T07:04:33.992138Z",
     "shell.execute_reply": "2022-09-23T07:04:33.991044Z",
     "shell.execute_reply.started": "2022-09-23T07:03:51.622738Z"
    }
   },
   "outputs": [],
   "source": [
    "history = model.fit(input_x,input_y,batch_size=32, epochs=15,verbose=0,validation_split=0.2, shuffle=True)"
   ]
  },
  {
   "cell_type": "code",
   "execution_count": null,
   "metadata": {
    "execution": {
     "iopub.execute_input": "2022-09-23T07:04:33.995296Z",
     "iopub.status.busy": "2022-09-23T07:04:33.994366Z",
     "iopub.status.idle": "2022-09-23T07:04:34.003775Z",
     "shell.execute_reply": "2022-09-23T07:04:34.002618Z",
     "shell.execute_reply.started": "2022-09-23T07:04:33.995247Z"
    }
   },
   "outputs": [],
   "source": [
    "print(embedding_layer.get_weights()[0].shape)"
   ]
  },
  {
   "cell_type": "code",
   "execution_count": null,
   "metadata": {
    "execution": {
     "iopub.execute_input": "2022-09-23T07:04:34.006967Z",
     "iopub.status.busy": "2022-09-23T07:04:34.005961Z",
     "iopub.status.idle": "2022-09-23T07:04:34.020757Z",
     "shell.execute_reply": "2022-09-23T07:04:34.019467Z",
     "shell.execute_reply.started": "2022-09-23T07:04:34.006910Z"
    }
   },
   "outputs": [],
   "source": [
    "embedding_layer.get_weights()[:20]"
   ]
  },
  {
   "cell_type": "markdown",
   "metadata": {},
   "source": [
    "## Visualization"
   ]
  },
  {
   "cell_type": "code",
   "execution_count": null,
   "metadata": {
    "execution": {
     "iopub.execute_input": "2022-09-23T07:04:34.023084Z",
     "iopub.status.busy": "2022-09-23T07:04:34.022610Z",
     "iopub.status.idle": "2022-09-23T07:04:34.031983Z",
     "shell.execute_reply": "2022-09-23T07:04:34.031040Z",
     "shell.execute_reply.started": "2022-09-23T07:04:34.023040Z"
    }
   },
   "outputs": [],
   "source": [
    "import matplotlib.pyplot as plt\n",
    "\n",
    "def training_plot(metrics, history):\n",
    "    f, ax = plt.subplots(1, len(metrics), figsize=(5 * len(metrics), 5))\n",
    "    for idx, metric in enumerate(metrics):\n",
    "        ax[idx].plot(history.history[metric], ls='dashed')\n",
    "        ax[idx].set_xlabel(\"Epochs\")\n",
    "        ax[idx].set_ylabel(metric)\n",
    "        ax[idx].plot(history.history['val_' + metric])\n",
    "        ax[idx].legend([metric, 'val_' + metric])"
   ]
  },
  {
   "cell_type": "code",
   "execution_count": null,
   "metadata": {
    "execution": {
     "iopub.execute_input": "2022-09-23T07:04:34.034338Z",
     "iopub.status.busy": "2022-09-23T07:04:34.033583Z",
     "iopub.status.idle": "2022-09-23T07:04:34.454002Z",
     "shell.execute_reply": "2022-09-23T07:04:34.453066Z",
     "shell.execute_reply.started": "2022-09-23T07:04:34.034290Z"
    }
   },
   "outputs": [],
   "source": [
    "training_plot(['loss', 'accuracy'], history)"
   ]
  },
  {
   "cell_type": "markdown",
   "metadata": {},
   "source": [
    "## Some thoughts"
   ]
  },
  {
   "cell_type": "markdown",
   "metadata": {},
   "source": [
    "Obviosly it needs some improving. However, the objective was to create a basic example of how to train a embedded layer to be used later."
   ]
  }
 ],
 "metadata": {
  "kernelspec": {
   "display_name": "Python 3 (ipykernel)",
   "language": "python",
   "name": "python3"
  },
  "language_info": {
   "codemirror_mode": {
    "name": "ipython",
    "version": 3
   },
   "file_extension": ".py",
   "mimetype": "text/x-python",
   "name": "python",
   "nbconvert_exporter": "python",
   "pygments_lexer": "ipython3",
   "version": "3.9.12"
  }
 },
 "nbformat": 4,
 "nbformat_minor": 4
}
