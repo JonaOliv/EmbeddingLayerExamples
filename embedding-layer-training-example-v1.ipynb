{
 "cells": [
  {
   "cell_type": "markdown",
   "metadata": {},
   "source": [
    "# Embedding Layer Training Example v1"
   ]
  },
  {
   "cell_type": "markdown",
   "metadata": {},
   "source": [
    "## Loading Data"
   ]
  },
  {
   "cell_type": "code",
   "execution_count": 1,
   "metadata": {
    "execution": {
     "iopub.execute_input": "2022-09-23T07:03:51.178116Z",
     "iopub.status.busy": "2022-09-23T07:03:51.177625Z",
     "iopub.status.idle": "2022-09-23T07:03:51.185655Z",
     "shell.execute_reply": "2022-09-23T07:03:51.183932Z",
     "shell.execute_reply.started": "2022-09-23T07:03:51.178079Z"
    }
   },
   "outputs": [],
   "source": [
    "import numpy as np\n",
    "import pandas as pd "
   ]
  },
  {
   "cell_type": "code",
   "execution_count": 2,
   "metadata": {
    "execution": {
     "iopub.execute_input": "2022-09-23T07:03:51.228904Z",
     "iopub.status.busy": "2022-09-23T07:03:51.227755Z",
     "iopub.status.idle": "2022-09-23T07:03:51.262650Z",
     "shell.execute_reply": "2022-09-23T07:03:51.261725Z",
     "shell.execute_reply.started": "2022-09-23T07:03:51.228854Z"
    }
   },
   "outputs": [
    {
     "name": "stdout",
     "output_type": "stream",
     "text": [
      "Spells 554\n"
     ]
    },
    {
     "data": {
      "text/html": [
       "<div>\n",
       "<style scoped>\n",
       "    .dataframe tbody tr th:only-of-type {\n",
       "        vertical-align: middle;\n",
       "    }\n",
       "\n",
       "    .dataframe tbody tr th {\n",
       "        vertical-align: top;\n",
       "    }\n",
       "\n",
       "    .dataframe thead th {\n",
       "        text-align: right;\n",
       "    }\n",
       "</style>\n",
       "<table border=\"1\" class=\"dataframe\">\n",
       "  <thead>\n",
       "    <tr style=\"text-align: right;\">\n",
       "      <th></th>\n",
       "      <th>name</th>\n",
       "      <th>classes</th>\n",
       "      <th>level</th>\n",
       "      <th>school</th>\n",
       "      <th>cast_time</th>\n",
       "      <th>range</th>\n",
       "      <th>duration</th>\n",
       "      <th>verbal</th>\n",
       "      <th>somatic</th>\n",
       "      <th>material</th>\n",
       "      <th>material_cost</th>\n",
       "      <th>description</th>\n",
       "    </tr>\n",
       "  </thead>\n",
       "  <tbody>\n",
       "    <tr>\n",
       "      <th>0</th>\n",
       "      <td>Acid Splash</td>\n",
       "      <td>Artificer, Sorcerer, Wizard</td>\n",
       "      <td>0</td>\n",
       "      <td>Conjuration</td>\n",
       "      <td>1 Action</td>\n",
       "      <td>60 Feet</td>\n",
       "      <td>Instantaneous</td>\n",
       "      <td>1</td>\n",
       "      <td>1</td>\n",
       "      <td>0</td>\n",
       "      <td>NaN</td>\n",
       "      <td>You hurl a bubble of acid. Choose one creature...</td>\n",
       "    </tr>\n",
       "    <tr>\n",
       "      <th>1</th>\n",
       "      <td>Blade Ward</td>\n",
       "      <td>Bard, Sorcerer, Warlock, Wizard</td>\n",
       "      <td>0</td>\n",
       "      <td>Abjuration</td>\n",
       "      <td>1 Action</td>\n",
       "      <td>Self</td>\n",
       "      <td>1 round</td>\n",
       "      <td>1</td>\n",
       "      <td>1</td>\n",
       "      <td>0</td>\n",
       "      <td>NaN</td>\n",
       "      <td>You extend your hand and trace a sigil of ward...</td>\n",
       "    </tr>\n",
       "    <tr>\n",
       "      <th>2</th>\n",
       "      <td>Booming Blade</td>\n",
       "      <td>Artificer, Sorcerer, Warlock, Wizard</td>\n",
       "      <td>0</td>\n",
       "      <td>Evocation</td>\n",
       "      <td>1 Action</td>\n",
       "      <td>Self (5-foot radius)</td>\n",
       "      <td>1 round</td>\n",
       "      <td>0</td>\n",
       "      <td>1</td>\n",
       "      <td>1</td>\n",
       "      <td>a melee weapon worth at least 1 sp</td>\n",
       "      <td>You brandish the weapon used in the spell’s ca...</td>\n",
       "    </tr>\n",
       "    <tr>\n",
       "      <th>3</th>\n",
       "      <td>Chill Touch</td>\n",
       "      <td>Sorcerer, Warlock, Wizard</td>\n",
       "      <td>0</td>\n",
       "      <td>Necromancy</td>\n",
       "      <td>1 Action</td>\n",
       "      <td>120 Feet</td>\n",
       "      <td>1 round</td>\n",
       "      <td>1</td>\n",
       "      <td>1</td>\n",
       "      <td>0</td>\n",
       "      <td>NaN</td>\n",
       "      <td>You create a ghostly, skeletal hand in the spa...</td>\n",
       "    </tr>\n",
       "    <tr>\n",
       "      <th>4</th>\n",
       "      <td>Control Flames</td>\n",
       "      <td>Druid, Sorcerer, Wizard</td>\n",
       "      <td>0</td>\n",
       "      <td>Transmutation</td>\n",
       "      <td>1 Action</td>\n",
       "      <td>60 Feet</td>\n",
       "      <td>Instantaneous or 1 hour</td>\n",
       "      <td>0</td>\n",
       "      <td>1</td>\n",
       "      <td>0</td>\n",
       "      <td>NaN</td>\n",
       "      <td>You choose nonmagical flame that you can see w...</td>\n",
       "    </tr>\n",
       "  </tbody>\n",
       "</table>\n",
       "</div>"
      ],
      "text/plain": [
       "             name                               classes  level         school  \\\n",
       "0     Acid Splash           Artificer, Sorcerer, Wizard      0    Conjuration   \n",
       "1      Blade Ward       Bard, Sorcerer, Warlock, Wizard      0     Abjuration   \n",
       "2   Booming Blade  Artificer, Sorcerer, Warlock, Wizard      0      Evocation   \n",
       "3     Chill Touch             Sorcerer, Warlock, Wizard      0     Necromancy   \n",
       "4  Control Flames               Druid, Sorcerer, Wizard      0  Transmutation   \n",
       "\n",
       "  cast_time                 range                 duration  verbal  somatic  \\\n",
       "0  1 Action               60 Feet            Instantaneous       1        1   \n",
       "1  1 Action                  Self                  1 round       1        1   \n",
       "2  1 Action  Self (5-foot radius)                  1 round       0        1   \n",
       "3  1 Action              120 Feet                  1 round       1        1   \n",
       "4  1 Action               60 Feet  Instantaneous or 1 hour       0        1   \n",
       "\n",
       "   material                       material_cost  \\\n",
       "0         0                                 NaN   \n",
       "1         0                                 NaN   \n",
       "2         1  a melee weapon worth at least 1 sp   \n",
       "3         0                                 NaN   \n",
       "4         0                                 NaN   \n",
       "\n",
       "                                         description  \n",
       "0  You hurl a bubble of acid. Choose one creature...  \n",
       "1  You extend your hand and trace a sigil of ward...  \n",
       "2  You brandish the weapon used in the spell’s ca...  \n",
       "3  You create a ghostly, skeletal hand in the spa...  \n",
       "4  You choose nonmagical flame that you can see w...  "
      ]
     },
     "execution_count": 2,
     "metadata": {},
     "output_type": "execute_result"
    }
   ],
   "source": [
    "#df_spells = pd.read_csv(\"/kaggle/input/dndspells/dnd-spells.csv\")\n",
    "df_spells = pd.read_csv(\"dataset/dnd-spells.csv\")\n",
    "print(\"Spells \" + str(len(df_spells)))\n",
    "df_spells[:5]"
   ]
  },
  {
   "cell_type": "markdown",
   "metadata": {},
   "source": [
    "## Data Exploration"
   ]
  },
  {
   "cell_type": "markdown",
   "metadata": {},
   "source": [
    "### Maximun number of token by row"
   ]
  },
  {
   "cell_type": "code",
   "execution_count": 3,
   "metadata": {},
   "outputs": [
    {
     "name": "stdout",
     "output_type": "stream",
     "text": [
      "Requirement already satisfied: spacy in c:\\programdata\\anaconda3\\lib\\site-packages (3.4.1)\n",
      "Requirement already satisfied: wasabi<1.1.0,>=0.9.1 in c:\\programdata\\anaconda3\\lib\\site-packages (from spacy) (0.10.1)\n",
      "Requirement already satisfied: packaging>=20.0 in c:\\programdata\\anaconda3\\lib\\site-packages (from spacy) (21.3)\n",
      "Requirement already satisfied: spacy-loggers<2.0.0,>=1.0.0 in c:\\programdata\\anaconda3\\lib\\site-packages (from spacy) (1.0.3)\n",
      "Requirement already satisfied: pydantic!=1.8,!=1.8.1,<1.10.0,>=1.7.4 in c:\\programdata\\anaconda3\\lib\\site-packages (from spacy) (1.9.2)\n",
      "Requirement already satisfied: typer<0.5.0,>=0.3.0 in c:\\programdata\\anaconda3\\lib\\site-packages (from spacy) (0.4.2)\n",
      "Requirement already satisfied: murmurhash<1.1.0,>=0.28.0 in c:\\programdata\\anaconda3\\lib\\site-packages (from spacy) (1.0.8)\n",
      "Requirement already satisfied: tqdm<5.0.0,>=4.38.0 in c:\\programdata\\anaconda3\\lib\\site-packages (from spacy) (4.64.0)\n",
      "Requirement already satisfied: numpy>=1.15.0 in c:\\programdata\\anaconda3\\lib\\site-packages (from spacy) (1.21.5)\n",
      "Requirement already satisfied: spacy-legacy<3.1.0,>=3.0.9 in c:\\programdata\\anaconda3\\lib\\site-packages (from spacy) (3.0.10)\n",
      "Requirement already satisfied: jinja2 in c:\\programdata\\anaconda3\\lib\\site-packages (from spacy) (2.11.3)\n",
      "Requirement already satisfied: requests<3.0.0,>=2.13.0 in c:\\programdata\\anaconda3\\lib\\site-packages (from spacy) (2.27.1)\n",
      "Requirement already satisfied: pathy>=0.3.5 in c:\\programdata\\anaconda3\\lib\\site-packages (from spacy) (0.6.2)\n",
      "Requirement already satisfied: cymem<2.1.0,>=2.0.2 in c:\\programdata\\anaconda3\\lib\\site-packages (from spacy) (2.0.6)\n",
      "Requirement already satisfied: srsly<3.0.0,>=2.4.3 in c:\\programdata\\anaconda3\\lib\\site-packages (from spacy) (2.4.4)\n",
      "Requirement already satisfied: setuptools in c:\\programdata\\anaconda3\\lib\\site-packages (from spacy) (61.2.0)\n",
      "Requirement already satisfied: preshed<3.1.0,>=3.0.2 in c:\\programdata\\anaconda3\\lib\\site-packages (from spacy) (3.0.7)\n",
      "Requirement already satisfied: thinc<8.2.0,>=8.1.0 in c:\\programdata\\anaconda3\\lib\\site-packages (from spacy) (8.1.2)\n",
      "Requirement already satisfied: langcodes<4.0.0,>=3.2.0 in c:\\programdata\\anaconda3\\lib\\site-packages (from spacy) (3.3.0)\n",
      "Requirement already satisfied: catalogue<2.1.0,>=2.0.6 in c:\\programdata\\anaconda3\\lib\\site-packages (from spacy) (2.0.8)\n",
      "Requirement already satisfied: pyparsing!=3.0.5,>=2.0.2 in c:\\programdata\\anaconda3\\lib\\site-packages (from packaging>=20.0->spacy) (3.0.4)\n",
      "Requirement already satisfied: smart-open<6.0.0,>=5.2.1 in c:\\programdata\\anaconda3\\lib\\site-packages (from pathy>=0.3.5->spacy) (5.2.1)\n",
      "Requirement already satisfied: typing-extensions>=3.7.4.3 in c:\\programdata\\anaconda3\\lib\\site-packages (from pydantic!=1.8,!=1.8.1,<1.10.0,>=1.7.4->spacy) (4.1.1)\n",
      "Requirement already satisfied: urllib3<1.27,>=1.21.1 in c:\\programdata\\anaconda3\\lib\\site-packages (from requests<3.0.0,>=2.13.0->spacy) (1.26.9)\n",
      "Requirement already satisfied: certifi>=2017.4.17 in c:\\programdata\\anaconda3\\lib\\site-packages (from requests<3.0.0,>=2.13.0->spacy) (2021.10.8)\n",
      "Requirement already satisfied: idna<4,>=2.5 in c:\\programdata\\anaconda3\\lib\\site-packages (from requests<3.0.0,>=2.13.0->spacy) (3.3)\n",
      "Requirement already satisfied: charset-normalizer~=2.0.0 in c:\\programdata\\anaconda3\\lib\\site-packages (from requests<3.0.0,>=2.13.0->spacy) (2.0.4)\n",
      "Requirement already satisfied: blis<0.8.0,>=0.7.8 in c:\\programdata\\anaconda3\\lib\\site-packages (from thinc<8.2.0,>=8.1.0->spacy) (0.7.8)\n",
      "Requirement already satisfied: confection<1.0.0,>=0.0.1 in c:\\programdata\\anaconda3\\lib\\site-packages (from thinc<8.2.0,>=8.1.0->spacy) (0.0.1)\n",
      "Requirement already satisfied: colorama in c:\\programdata\\anaconda3\\lib\\site-packages (from tqdm<5.0.0,>=4.38.0->spacy) (0.4.4)\n",
      "Requirement already satisfied: click<9.0.0,>=7.1.1 in c:\\programdata\\anaconda3\\lib\\site-packages (from typer<0.5.0,>=0.3.0->spacy) (8.0.4)\n",
      "Requirement already satisfied: MarkupSafe>=0.23 in c:\\programdata\\anaconda3\\lib\\site-packages (from jinja2->spacy) (2.0.1)\n"
     ]
    }
   ],
   "source": [
    "!pip install spacy"
   ]
  },
  {
   "cell_type": "code",
   "execution_count": 5,
   "metadata": {},
   "outputs": [
    {
     "data": {
      "text/plain": [
       "0     77\n",
       "1     38\n",
       "2    140\n",
       "3    128\n",
       "4    175\n",
       "Name: count_tokens, dtype: int64"
      ]
     },
     "execution_count": 5,
     "metadata": {},
     "output_type": "execute_result"
    }
   ],
   "source": [
    "import spacy\n",
    "npl = spacy.load('en_core_web_sm')\n",
    "\n",
    "def count_words(x):\n",
    "    y = npl(x)\n",
    "    return len(y)\n",
    "\n",
    "df_spells[\"count_tokens\"] = df_spells.apply(lambda x: count_words(x['description']),axis=1)\n",
    "df_spells[\"count_tokens\"][:5]"
   ]
  },
  {
   "cell_type": "code",
   "execution_count": 6,
   "metadata": {},
   "outputs": [
    {
     "data": {
      "text/html": [
       "<div>\n",
       "<style scoped>\n",
       "    .dataframe tbody tr th:only-of-type {\n",
       "        vertical-align: middle;\n",
       "    }\n",
       "\n",
       "    .dataframe tbody tr th {\n",
       "        vertical-align: top;\n",
       "    }\n",
       "\n",
       "    .dataframe thead th {\n",
       "        text-align: right;\n",
       "    }\n",
       "</style>\n",
       "<table border=\"1\" class=\"dataframe\">\n",
       "  <thead>\n",
       "    <tr style=\"text-align: right;\">\n",
       "      <th></th>\n",
       "      <th>level</th>\n",
       "      <th>verbal</th>\n",
       "      <th>somatic</th>\n",
       "      <th>material</th>\n",
       "      <th>count_tokens</th>\n",
       "    </tr>\n",
       "  </thead>\n",
       "  <tbody>\n",
       "    <tr>\n",
       "      <th>count</th>\n",
       "      <td>554.000000</td>\n",
       "      <td>554.000000</td>\n",
       "      <td>554.000000</td>\n",
       "      <td>554.000000</td>\n",
       "      <td>554.000000</td>\n",
       "    </tr>\n",
       "    <tr>\n",
       "      <th>mean</th>\n",
       "      <td>3.525271</td>\n",
       "      <td>0.945848</td>\n",
       "      <td>0.862816</td>\n",
       "      <td>0.523466</td>\n",
       "      <td>165.189531</td>\n",
       "    </tr>\n",
       "    <tr>\n",
       "      <th>std</th>\n",
       "      <td>2.470128</td>\n",
       "      <td>0.226521</td>\n",
       "      <td>0.344353</td>\n",
       "      <td>0.499900</td>\n",
       "      <td>112.745654</td>\n",
       "    </tr>\n",
       "    <tr>\n",
       "      <th>min</th>\n",
       "      <td>0.000000</td>\n",
       "      <td>0.000000</td>\n",
       "      <td>0.000000</td>\n",
       "      <td>0.000000</td>\n",
       "      <td>11.000000</td>\n",
       "    </tr>\n",
       "    <tr>\n",
       "      <th>25%</th>\n",
       "      <td>1.000000</td>\n",
       "      <td>1.000000</td>\n",
       "      <td>1.000000</td>\n",
       "      <td>0.000000</td>\n",
       "      <td>90.250000</td>\n",
       "    </tr>\n",
       "    <tr>\n",
       "      <th>50%</th>\n",
       "      <td>3.000000</td>\n",
       "      <td>1.000000</td>\n",
       "      <td>1.000000</td>\n",
       "      <td>1.000000</td>\n",
       "      <td>138.500000</td>\n",
       "    </tr>\n",
       "    <tr>\n",
       "      <th>75%</th>\n",
       "      <td>5.000000</td>\n",
       "      <td>1.000000</td>\n",
       "      <td>1.000000</td>\n",
       "      <td>1.000000</td>\n",
       "      <td>199.500000</td>\n",
       "    </tr>\n",
       "    <tr>\n",
       "      <th>max</th>\n",
       "      <td>9.000000</td>\n",
       "      <td>1.000000</td>\n",
       "      <td>1.000000</td>\n",
       "      <td>1.000000</td>\n",
       "      <td>800.000000</td>\n",
       "    </tr>\n",
       "  </tbody>\n",
       "</table>\n",
       "</div>"
      ],
      "text/plain": [
       "            level      verbal     somatic    material  count_tokens\n",
       "count  554.000000  554.000000  554.000000  554.000000    554.000000\n",
       "mean     3.525271    0.945848    0.862816    0.523466    165.189531\n",
       "std      2.470128    0.226521    0.344353    0.499900    112.745654\n",
       "min      0.000000    0.000000    0.000000    0.000000     11.000000\n",
       "25%      1.000000    1.000000    1.000000    0.000000     90.250000\n",
       "50%      3.000000    1.000000    1.000000    1.000000    138.500000\n",
       "75%      5.000000    1.000000    1.000000    1.000000    199.500000\n",
       "max      9.000000    1.000000    1.000000    1.000000    800.000000"
      ]
     },
     "execution_count": 6,
     "metadata": {},
     "output_type": "execute_result"
    }
   ],
   "source": [
    "df_spells.describe()"
   ]
  },
  {
   "cell_type": "markdown",
   "metadata": {},
   "source": [
    "### Number of words for the vocabulary"
   ]
  },
  {
   "cell_type": "code",
   "execution_count": 8,
   "metadata": {},
   "outputs": [
    {
     "name": "stdout",
     "output_type": "stream",
     "text": [
      "Collecting tensorflow\n",
      "  Downloading tensorflow-2.10.0-cp39-cp39-win_amd64.whl (455.9 MB)\n",
      "Requirement already satisfied: h5py>=2.9.0 in c:\\programdata\\anaconda3\\lib\\site-packages (from tensorflow) (3.6.0)\n",
      "Requirement already satisfied: typing-extensions>=3.6.6 in c:\\programdata\\anaconda3\\lib\\site-packages (from tensorflow) (4.1.1)\n",
      "Requirement already satisfied: six>=1.12.0 in c:\\programdata\\anaconda3\\lib\\site-packages (from tensorflow) (1.16.0)\n",
      "Requirement already satisfied: protobuf<3.20,>=3.9.2 in c:\\programdata\\anaconda3\\lib\\site-packages (from tensorflow) (3.19.1)\n",
      "Collecting keras-preprocessing>=1.1.1\n",
      "  Downloading Keras_Preprocessing-1.1.2-py2.py3-none-any.whl (42 kB)\n",
      "Collecting gast<=0.4.0,>=0.2.1\n",
      "  Downloading gast-0.4.0-py3-none-any.whl (9.8 kB)\n",
      "Collecting absl-py>=1.0.0\n",
      "  Downloading absl_py-1.2.0-py3-none-any.whl (123 kB)\n",
      "Requirement already satisfied: wrapt>=1.11.0 in c:\\programdata\\anaconda3\\lib\\site-packages (from tensorflow) (1.12.1)\n",
      "Collecting libclang>=13.0.0\n",
      "  Downloading libclang-14.0.6-py2.py3-none-win_amd64.whl (14.2 MB)\n",
      "Requirement already satisfied: setuptools in c:\\programdata\\anaconda3\\lib\\site-packages (from tensorflow) (61.2.0)\n",
      "Collecting tensorboard<2.11,>=2.10\n",
      "  Downloading tensorboard-2.10.1-py3-none-any.whl (5.9 MB)\n",
      "Collecting tensorflow-estimator<2.11,>=2.10.0\n",
      "  Downloading tensorflow_estimator-2.10.0-py2.py3-none-any.whl (438 kB)\n",
      "Collecting termcolor>=1.1.0\n",
      "  Downloading termcolor-2.0.1-py3-none-any.whl (5.4 kB)\n",
      "Requirement already satisfied: packaging in c:\\programdata\\anaconda3\\lib\\site-packages (from tensorflow) (21.3)\n",
      "Collecting keras<2.11,>=2.10.0\n",
      "  Downloading keras-2.10.0-py2.py3-none-any.whl (1.7 MB)\n",
      "Collecting opt-einsum>=2.3.2\n",
      "  Downloading opt_einsum-3.3.0-py3-none-any.whl (65 kB)\n",
      "Collecting flatbuffers>=2.0\n",
      "  Downloading flatbuffers-2.0.7-py2.py3-none-any.whl (26 kB)\n",
      "Collecting google-pasta>=0.1.1\n",
      "  Downloading google_pasta-0.2.0-py3-none-any.whl (57 kB)\n",
      "Requirement already satisfied: numpy>=1.20 in c:\\programdata\\anaconda3\\lib\\site-packages (from tensorflow) (1.21.5)\n",
      "Requirement already satisfied: grpcio<2.0,>=1.24.3 in c:\\programdata\\anaconda3\\lib\\site-packages (from tensorflow) (1.42.0)\n",
      "Collecting astunparse>=1.6.0\n",
      "  Downloading astunparse-1.6.3-py2.py3-none-any.whl (12 kB)\n",
      "Collecting tensorflow-io-gcs-filesystem>=0.23.1\n",
      "  Downloading tensorflow_io_gcs_filesystem-0.27.0-cp39-cp39-win_amd64.whl (1.5 MB)\n",
      "Requirement already satisfied: wheel<1.0,>=0.23.0 in c:\\programdata\\anaconda3\\lib\\site-packages (from astunparse>=1.6.0->tensorflow) (0.37.1)\n",
      "Requirement already satisfied: requests<3,>=2.21.0 in c:\\programdata\\anaconda3\\lib\\site-packages (from tensorboard<2.11,>=2.10->tensorflow) (2.27.1)\n",
      "Collecting google-auth-oauthlib<0.5,>=0.4.1\n",
      "  Downloading google_auth_oauthlib-0.4.6-py2.py3-none-any.whl (18 kB)\n",
      "Collecting tensorboard-data-server<0.7.0,>=0.6.0\n",
      "  Downloading tensorboard_data_server-0.6.1-py3-none-any.whl (2.4 kB)\n",
      "Requirement already satisfied: google-auth<3,>=1.6.3 in c:\\programdata\\anaconda3\\lib\\site-packages (from tensorboard<2.11,>=2.10->tensorflow) (1.33.0)\n",
      "Requirement already satisfied: werkzeug>=1.0.1 in c:\\programdata\\anaconda3\\lib\\site-packages (from tensorboard<2.11,>=2.10->tensorflow) (2.0.3)\n",
      "Requirement already satisfied: markdown>=2.6.8 in c:\\programdata\\anaconda3\\lib\\site-packages (from tensorboard<2.11,>=2.10->tensorflow) (3.3.4)\n",
      "Collecting tensorboard-plugin-wit>=1.6.0\n",
      "  Downloading tensorboard_plugin_wit-1.8.1-py3-none-any.whl (781 kB)\n",
      "Requirement already satisfied: pyasn1-modules>=0.2.1 in c:\\programdata\\anaconda3\\lib\\site-packages (from google-auth<3,>=1.6.3->tensorboard<2.11,>=2.10->tensorflow) (0.2.8)\n",
      "Requirement already satisfied: rsa<5,>=3.1.4 in c:\\programdata\\anaconda3\\lib\\site-packages (from google-auth<3,>=1.6.3->tensorboard<2.11,>=2.10->tensorflow) (4.7.2)\n",
      "Requirement already satisfied: cachetools<5.0,>=2.0.0 in c:\\programdata\\anaconda3\\lib\\site-packages (from google-auth<3,>=1.6.3->tensorboard<2.11,>=2.10->tensorflow) (4.2.2)\n",
      "Collecting requests-oauthlib>=0.7.0\n",
      "  Downloading requests_oauthlib-1.3.1-py2.py3-none-any.whl (23 kB)\n",
      "Requirement already satisfied: pyasn1<0.5.0,>=0.4.6 in c:\\programdata\\anaconda3\\lib\\site-packages (from pyasn1-modules>=0.2.1->google-auth<3,>=1.6.3->tensorboard<2.11,>=2.10->tensorflow) (0.4.8)\n",
      "Requirement already satisfied: idna<4,>=2.5 in c:\\programdata\\anaconda3\\lib\\site-packages (from requests<3,>=2.21.0->tensorboard<2.11,>=2.10->tensorflow) (3.3)\n",
      "Requirement already satisfied: certifi>=2017.4.17 in c:\\programdata\\anaconda3\\lib\\site-packages (from requests<3,>=2.21.0->tensorboard<2.11,>=2.10->tensorflow) (2021.10.8)\n",
      "Requirement already satisfied: urllib3<1.27,>=1.21.1 in c:\\programdata\\anaconda3\\lib\\site-packages (from requests<3,>=2.21.0->tensorboard<2.11,>=2.10->tensorflow) (1.26.9)\n",
      "Requirement already satisfied: charset-normalizer~=2.0.0 in c:\\programdata\\anaconda3\\lib\\site-packages (from requests<3,>=2.21.0->tensorboard<2.11,>=2.10->tensorflow) (2.0.4)\n",
      "Collecting oauthlib>=3.0.0\n",
      "  Downloading oauthlib-3.2.1-py3-none-any.whl (151 kB)\n",
      "Requirement already satisfied: pyparsing!=3.0.5,>=2.0.2 in c:\\programdata\\anaconda3\\lib\\site-packages (from packaging->tensorflow) (3.0.4)\n",
      "Installing collected packages: oauthlib, requests-oauthlib, tensorboard-plugin-wit, tensorboard-data-server, google-auth-oauthlib, absl-py, termcolor, tensorflow-io-gcs-filesystem, tensorflow-estimator, tensorboard, opt-einsum, libclang, keras-preprocessing, keras, google-pasta, gast, flatbuffers, astunparse, tensorflow\n",
      "Successfully installed absl-py-1.2.0 astunparse-1.6.3 flatbuffers-2.0.7 gast-0.4.0 google-auth-oauthlib-0.4.6 google-pasta-0.2.0 keras-2.10.0 keras-preprocessing-1.1.2 libclang-14.0.6 oauthlib-3.2.1 opt-einsum-3.3.0 requests-oauthlib-1.3.1 tensorboard-2.10.1 tensorboard-data-server-0.6.1 tensorboard-plugin-wit-1.8.1 tensorflow-2.10.0 tensorflow-estimator-2.10.0 tensorflow-io-gcs-filesystem-0.27.0 termcolor-2.0.1\n"
     ]
    },
    {
     "name": "stderr",
     "output_type": "stream",
     "text": [
      "  WARNING: Retrying (Retry(total=4, connect=None, read=None, redirect=None, status=None)) after connection broken by 'NewConnectionError('<pip._vendor.urllib3.connection.HTTPSConnection object at 0x000001AC17EDA640>: Failed to establish a new connection: [Errno 11002] getaddrinfo failed')': /packages/28/71/d48a420654131c71fd62cb52befa1b0090641c9ec4a29459c6e63b66061d/tensorflow-2.10.0-cp39-cp39-win_amd64.whl\n",
      "  WARNING: Retrying (Retry(total=3, connect=None, read=None, redirect=None, status=None)) after connection broken by 'NewConnectionError('<pip._vendor.urllib3.connection.HTTPSConnection object at 0x000001AC17EDA820>: Failed to establish a new connection: [Errno 11002] getaddrinfo failed')': /packages/28/71/d48a420654131c71fd62cb52befa1b0090641c9ec4a29459c6e63b66061d/tensorflow-2.10.0-cp39-cp39-win_amd64.whl\n",
      "  WARNING: Retrying (Retry(total=2, connect=None, read=None, redirect=None, status=None)) after connection broken by 'NewConnectionError('<pip._vendor.urllib3.connection.HTTPSConnection object at 0x000001AC17EDAA00>: Failed to establish a new connection: [Errno 11002] getaddrinfo failed')': /packages/28/71/d48a420654131c71fd62cb52befa1b0090641c9ec4a29459c6e63b66061d/tensorflow-2.10.0-cp39-cp39-win_amd64.whl\n",
      "  WARNING: Retrying (Retry(total=1, connect=None, read=None, redirect=None, status=None)) after connection broken by 'NewConnectionError('<pip._vendor.urllib3.connection.HTTPSConnection object at 0x000001AC17EDABE0>: Failed to establish a new connection: [Errno 11002] getaddrinfo failed')': /packages/28/71/d48a420654131c71fd62cb52befa1b0090641c9ec4a29459c6e63b66061d/tensorflow-2.10.0-cp39-cp39-win_amd64.whl\n",
      "  WARNING: Retrying (Retry(total=0, connect=None, read=None, redirect=None, status=None)) after connection broken by 'NewConnectionError('<pip._vendor.urllib3.connection.HTTPSConnection object at 0x000001AC17EDADC0>: Failed to establish a new connection: [Errno 11002] getaddrinfo failed')': /packages/28/71/d48a420654131c71fd62cb52befa1b0090641c9ec4a29459c6e63b66061d/tensorflow-2.10.0-cp39-cp39-win_amd64.whl\n"
     ]
    }
   ],
   "source": [
    "!pip install tensorflow"
   ]
  },
  {
   "cell_type": "code",
   "execution_count": 9,
   "metadata": {},
   "outputs": [],
   "source": [
    "import tensorflow as tf\n",
    "\n",
    "text_vectorization_layer = tf.keras.layers.TextVectorization(\n",
    " standardize=\"lower_and_strip_punctuation\",\n",
    " output_mode='int',\n",
    "output_sequence_length=800)"
   ]
  },
  {
   "cell_type": "code",
   "execution_count": 10,
   "metadata": {},
   "outputs": [],
   "source": [
    "text_vectorization_layer.adapt(df_spells['description'])"
   ]
  },
  {
   "cell_type": "code",
   "execution_count": 11,
   "metadata": {},
   "outputs": [
    {
     "name": "stdout",
     "output_type": "stream",
     "text": [
      "We have 4504 terms as vocabulary\n"
     ]
    }
   ],
   "source": [
    "print(\"We have \" + str(len(text_vectorization_layer.get_vocabulary())) + \" terms as vocabulary\")"
   ]
  },
  {
   "cell_type": "markdown",
   "metadata": {},
   "source": [
    "## Creating input X\n",
    "I one_hot encode the values in the description column. Giving an integer number for each word (token). Finally, the empty space caused by the imbalanced number of tokens between rows of the column is filled with zeros."
   ]
  },
  {
   "cell_type": "code",
   "execution_count": 12,
   "metadata": {
    "execution": {
     "iopub.execute_input": "2022-09-23T07:03:51.265255Z",
     "iopub.status.busy": "2022-09-23T07:03:51.264599Z",
     "iopub.status.idle": "2022-09-23T07:03:51.270315Z",
     "shell.execute_reply": "2022-09-23T07:03:51.269027Z",
     "shell.execute_reply.started": "2022-09-23T07:03:51.265216Z"
    }
   },
   "outputs": [],
   "source": [
    "from tensorflow.keras.preprocessing.text import one_hot\n",
    "from tensorflow.keras.preprocessing.sequence import pad_sequences"
   ]
  },
  {
   "cell_type": "code",
   "execution_count": 13,
   "metadata": {
    "execution": {
     "iopub.execute_input": "2022-09-23T07:03:51.272336Z",
     "iopub.status.busy": "2022-09-23T07:03:51.271891Z",
     "iopub.status.idle": "2022-09-23T07:03:51.373471Z",
     "shell.execute_reply": "2022-09-23T07:03:51.372289Z",
     "shell.execute_reply.started": "2022-09-23T07:03:51.272298Z"
    }
   },
   "outputs": [
    {
     "data": {
      "text/plain": [
       "array([[1330, 1125,  951, ...,    0,    0,    0],\n",
       "       [1330, 2914, 2354, ...,    0,    0,    0]])"
      ]
     },
     "execution_count": 13,
     "metadata": {},
     "output_type": "execute_result"
    }
   ],
   "source": [
    "vocabulary_size = 4504\n",
    "df_descrip = df_spells['description']\n",
    "input_x = [one_hot(d,vocabulary_size) for d in df_descrip]\n",
    "max_length = 800\n",
    "input_x = pad_sequences(input_x,maxlen=max_length,padding='post')\n",
    "input_x[:2]"
   ]
  },
  {
   "cell_type": "markdown",
   "metadata": {},
   "source": [
    "## Creating input Y\n",
    "The label (school column) is categorized in a form the model can understand. Furthermore, to avoid problems by imbalanced big values between schools, it was used 'tf.keras.utils.to_categorical' to balance it."
   ]
  },
  {
   "cell_type": "code",
   "execution_count": 14,
   "metadata": {
    "execution": {
     "iopub.execute_input": "2022-09-23T07:03:51.376455Z",
     "iopub.status.busy": "2022-09-23T07:03:51.376098Z",
     "iopub.status.idle": "2022-09-23T07:03:51.386342Z",
     "shell.execute_reply": "2022-09-23T07:03:51.385067Z",
     "shell.execute_reply.started": "2022-09-23T07:03:51.376422Z"
    }
   },
   "outputs": [
    {
     "name": "stdout",
     "output_type": "stream",
     "text": [
      "Labels:  ['Abjuration' 'Conjuration' 'Divination' 'Enchantment' 'Evocation'\n",
      " 'Illusion' 'Necromancy' 'Transmutation']\n"
     ]
    }
   ],
   "source": [
    "from sklearn.preprocessing import LabelEncoder\n",
    "import tensorflow as tf\n",
    "\n",
    "label_encoder = LabelEncoder()\n",
    "label_encoder.fit(df_spells['school'])\n",
    "print('Labels: ', label_encoder.classes_)\n",
    "\n",
    "def label_encode(labels,encoder):\n",
    "    encoding = encoder.transform(labels)\n",
    "    return tf.keras.utils.to_categorical(encoding,len(encoder.classes_))\n",
    "\n",
    "\n",
    "def label_decode(labels,decoder):\n",
    "    decoding = np.argmax(labels, axis=1)\n",
    "    return decoder.inverse_transform(decoding)"
   ]
  },
  {
   "cell_type": "code",
   "execution_count": 15,
   "metadata": {
    "execution": {
     "iopub.execute_input": "2022-09-23T07:03:51.388189Z",
     "iopub.status.busy": "2022-09-23T07:03:51.387725Z",
     "iopub.status.idle": "2022-09-23T07:03:51.407844Z",
     "shell.execute_reply": "2022-09-23T07:03:51.406513Z",
     "shell.execute_reply.started": "2022-09-23T07:03:51.388138Z"
    }
   },
   "outputs": [
    {
     "data": {
      "text/plain": [
       "array([[0., 1., 0., 0., 0., 0., 0., 0.],\n",
       "       [1., 0., 0., 0., 0., 0., 0., 0.],\n",
       "       [0., 0., 0., 0., 1., 0., 0., 0.],\n",
       "       [0., 0., 0., 0., 0., 0., 1., 0.],\n",
       "       [0., 0., 0., 0., 0., 0., 0., 1.]], dtype=float32)"
      ]
     },
     "execution_count": 15,
     "metadata": {},
     "output_type": "execute_result"
    }
   ],
   "source": [
    "input_y = label_encode(df_spells['school'],label_encoder)\n",
    "input_y[:5]"
   ]
  },
  {
   "cell_type": "markdown",
   "metadata": {},
   "source": [
    "## Modeling"
   ]
  },
  {
   "cell_type": "code",
   "execution_count": 16,
   "metadata": {
    "execution": {
     "iopub.execute_input": "2022-09-23T07:03:51.409599Z",
     "iopub.status.busy": "2022-09-23T07:03:51.409203Z",
     "iopub.status.idle": "2022-09-23T07:03:51.422317Z",
     "shell.execute_reply": "2022-09-23T07:03:51.420965Z",
     "shell.execute_reply.started": "2022-09-23T07:03:51.409561Z"
    }
   },
   "outputs": [],
   "source": [
    "from tensorflow.keras.models import Sequential\n",
    "from tensorflow.keras.layers import Flatten,Embedding,Dense"
   ]
  },
  {
   "cell_type": "markdown",
   "metadata": {},
   "source": [
    "#### Important:\n",
    "They are 4504 words as vocabulary. And the number max of words in a description is 800."
   ]
  },
  {
   "cell_type": "code",
   "execution_count": 17,
   "metadata": {
    "execution": {
     "iopub.execute_input": "2022-09-23T07:03:51.425365Z",
     "iopub.status.busy": "2022-09-23T07:03:51.424139Z",
     "iopub.status.idle": "2022-09-23T07:03:51.619362Z",
     "shell.execute_reply": "2022-09-23T07:03:51.618141Z",
     "shell.execute_reply.started": "2022-09-23T07:03:51.425315Z"
    }
   },
   "outputs": [
    {
     "name": "stdout",
     "output_type": "stream",
     "text": [
      "Model: \"sequential\"\n",
      "_________________________________________________________________\n",
      " Layer (type)                Output Shape              Param #   \n",
      "=================================================================\n",
      " embedding (Embedding)       (None, 800, 64)           288256    \n",
      "                                                                 \n",
      " flatten (Flatten)           (None, 51200)             0         \n",
      "                                                                 \n",
      " dense (Dense)               (None, 640)               32768640  \n",
      "                                                                 \n",
      " dense_1 (Dense)             (None, 64)                41024     \n",
      "                                                                 \n",
      " dense_2 (Dense)             (None, 64)                4160      \n",
      "                                                                 \n",
      " dense_3 (Dense)             (None, 8)                 520       \n",
      "                                                                 \n",
      "=================================================================\n",
      "Total params: 33,102,600\n",
      "Trainable params: 33,102,600\n",
      "Non-trainable params: 0\n",
      "_________________________________________________________________\n",
      "None\n"
     ]
    }
   ],
   "source": [
    "regularizer = tf.keras.regularizers.l1_l2(0, 0.001)\n",
    "\n",
    "model = Sequential()\n",
    "embedding_layer = Embedding(input_dim=4504,output_dim=64,input_length=800)\n",
    "model.add(embedding_layer)\n",
    "model.add(Flatten())\n",
    "model.add(Dense(640,kernel_regularizer=regularizer,activation='relu'))\n",
    "model.add(Dense(64,kernel_regularizer=regularizer,activation='relu'))\n",
    "model.add(Dense(64,kernel_regularizer=regularizer,activation='relu'))\n",
    "model.add(Dense(8,activation='softmax'))\n",
    "model.compile(optimizer='adam',loss='categorical_crossentropy',metrics=['accuracy'])\n",
    "print(model.summary())"
   ]
  },
  {
   "cell_type": "code",
   "execution_count": 18,
   "metadata": {
    "execution": {
     "iopub.execute_input": "2022-09-23T07:03:51.622777Z",
     "iopub.status.busy": "2022-09-23T07:03:51.622248Z",
     "iopub.status.idle": "2022-09-23T07:04:33.992138Z",
     "shell.execute_reply": "2022-09-23T07:04:33.991044Z",
     "shell.execute_reply.started": "2022-09-23T07:03:51.622738Z"
    }
   },
   "outputs": [],
   "source": [
    "history = model.fit(input_x,input_y,batch_size=32, epochs=15,verbose=0,validation_split=0.2, shuffle=True)"
   ]
  },
  {
   "cell_type": "code",
   "execution_count": 19,
   "metadata": {
    "execution": {
     "iopub.execute_input": "2022-09-23T07:04:33.995296Z",
     "iopub.status.busy": "2022-09-23T07:04:33.994366Z",
     "iopub.status.idle": "2022-09-23T07:04:34.003775Z",
     "shell.execute_reply": "2022-09-23T07:04:34.002618Z",
     "shell.execute_reply.started": "2022-09-23T07:04:33.995247Z"
    }
   },
   "outputs": [
    {
     "name": "stdout",
     "output_type": "stream",
     "text": [
      "(4504, 64)\n"
     ]
    }
   ],
   "source": [
    "print(embedding_layer.get_weights()[0].shape)"
   ]
  },
  {
   "cell_type": "code",
   "execution_count": 20,
   "metadata": {
    "execution": {
     "iopub.execute_input": "2022-09-23T07:04:34.006967Z",
     "iopub.status.busy": "2022-09-23T07:04:34.005961Z",
     "iopub.status.idle": "2022-09-23T07:04:34.020757Z",
     "shell.execute_reply": "2022-09-23T07:04:34.019467Z",
     "shell.execute_reply.started": "2022-09-23T07:04:34.006910Z"
    }
   },
   "outputs": [
    {
     "data": {
      "text/plain": [
       "[array([[-0.00020558,  0.01237731,  0.04141042, ..., -0.00803448,\n",
       "          0.00209095, -0.00028219],\n",
       "        [ 0.05879499,  0.05261182,  0.1042459 , ..., -0.0257775 ,\n",
       "         -0.0837893 ,  0.03936221],\n",
       "        [-0.0406212 , -0.00304245,  0.00863783, ...,  0.06684397,\n",
       "         -0.02026561, -0.04011687],\n",
       "        ...,\n",
       "        [ 0.03158468, -0.01215968, -0.02363378, ..., -0.02072058,\n",
       "          0.04180468, -0.08524968],\n",
       "        [ 0.03932232, -0.01338279,  0.03604319, ..., -0.01893971,\n",
       "          0.0131509 , -0.01841431],\n",
       "        [ 0.03899323, -0.00772778,  0.00949009, ...,  0.07815803,\n",
       "         -0.04354057, -0.02229745]], dtype=float32)]"
      ]
     },
     "execution_count": 20,
     "metadata": {},
     "output_type": "execute_result"
    }
   ],
   "source": [
    "embedding_layer.get_weights()[:20]"
   ]
  },
  {
   "cell_type": "markdown",
   "metadata": {},
   "source": [
    "## Visualization"
   ]
  },
  {
   "cell_type": "code",
   "execution_count": 21,
   "metadata": {
    "execution": {
     "iopub.execute_input": "2022-09-23T07:04:34.023084Z",
     "iopub.status.busy": "2022-09-23T07:04:34.022610Z",
     "iopub.status.idle": "2022-09-23T07:04:34.031983Z",
     "shell.execute_reply": "2022-09-23T07:04:34.031040Z",
     "shell.execute_reply.started": "2022-09-23T07:04:34.023040Z"
    }
   },
   "outputs": [],
   "source": [
    "import matplotlib.pyplot as plt\n",
    "\n",
    "def training_plot(metrics, history):\n",
    "    f, ax = plt.subplots(1, len(metrics), figsize=(5 * len(metrics), 5))\n",
    "    for idx, metric in enumerate(metrics):\n",
    "        ax[idx].plot(history.history[metric], ls='dashed')\n",
    "        ax[idx].set_xlabel(\"Epochs\")\n",
    "        ax[idx].set_ylabel(metric)\n",
    "        ax[idx].plot(history.history['val_' + metric])\n",
    "        ax[idx].legend([metric, 'val_' + metric])"
   ]
  },
  {
   "cell_type": "code",
   "execution_count": 22,
   "metadata": {
    "execution": {
     "iopub.execute_input": "2022-09-23T07:04:34.034338Z",
     "iopub.status.busy": "2022-09-23T07:04:34.033583Z",
     "iopub.status.idle": "2022-09-23T07:04:34.454002Z",
     "shell.execute_reply": "2022-09-23T07:04:34.453066Z",
     "shell.execute_reply.started": "2022-09-23T07:04:34.034290Z"
    }
   },
   "outputs": [
    {
     "data": {
      "image/png": "[encoded data removed]",
      "text/plain": [
       "<Figure size 720x360 with 2 Axes>"
      ]
     },
     "metadata": {
      "needs_background": "light"
     },
     "output_type": "display_data"
    }
   ],
   "source": [
    "training_plot(['loss', 'accuracy'], history)"
   ]
  },
  {
   "cell_type": "markdown",
   "metadata": {},
   "source": [
    "## Some thoughts"
   ]
  },
  {
   "cell_type": "markdown",
   "metadata": {},
   "source": [
    "Obviosly it needs some improving. However, the objective was to create a basic example of how to train a embedded layer to be used later. Using transfer learning to transfer the layer toward a new model."
   ]
  },
  {
   "cell_type": "code",
   "execution_count": null,
   "metadata": {},
   "outputs": [],
   "source": []
  }
 ],
 "metadata": {
  "kernelspec": {
   "display_name": "Python 3 (ipykernel)",
   "language": "python",
   "name": "python3"
  },
  "language_info": {
   "codemirror_mode": {
    "name": "ipython",
    "version": 3
   },
   "file_extension": ".py",
   "mimetype": "text/x-python",
   "name": "python",
   "nbconvert_exporter": "python",
   "pygments_lexer": "ipython3",
   "version": "3.9.12"
  }
 },
 "nbformat": 4,
 "nbformat_minor": 4
}
